{
 "nbformat": 4,
 "nbformat_minor": 2,
 "metadata": {
  "language_info": {
   "name": "python",
   "codemirror_mode": {
    "name": "ipython",
    "version": 3
   },
   "version": "3.7.4"
  },
  "orig_nbformat": 2,
  "file_extension": ".py",
  "mimetype": "text/x-python",
  "name": "python",
  "npconvert_exporter": "python",
  "pygments_lexer": "ipython3",
  "version": 3
 },
 "cells": [
  {
   "cell_type": "code",
   "execution_count": 1,
   "metadata": {},
   "outputs": [],
   "source": [
    "import pandas as pd\n",
    "import re\n",
    "pd.set_option('max_columns',1000)\n",
    "pd.set_option('max_row',300)"
   ]
  },
  {
   "cell_type": "code",
   "execution_count": 2,
   "metadata": {},
   "outputs": [
    {
     "name": "stdout",
     "output_type": "stream",
     "text": "fuzz  mdecpp  wsdm_diggsc\n"
    }
   ],
   "source": [
    "!ls"
   ]
  },
  {
   "cell_type": "code",
   "execution_count": 3,
   "metadata": {},
   "outputs": [],
   "source": [
    "train_data = pd.read_csv(\"wsdm_diggsc/wsdm/data/train_release.csv\")\n",
    "valid_data = pd.read_csv(\"wsdm_diggsc/wsdm/data/validation.csv\")\n",
    "all_data = pd.read_csv(\"wsdm_diggsc/wsdm/data/candidate_paper_for_wsdm2020.csv\", low_memory=False)"
   ]
  },
  {
   "cell_type": "code",
   "execution_count": 4,
   "metadata": {},
   "outputs": [],
   "source": [
    "train_data['description_text_type'] = train_data['description_text'].map(lambda s: type(s))"
   ]
  },
  {
   "cell_type": "code",
   "execution_count": 5,
   "metadata": {},
   "outputs": [
    {
     "data": {
      "text/plain": "<class 'str'>      62975\n<class 'float'>        1\nName: description_text_type, dtype: int64"
     },
     "execution_count": 5,
     "metadata": {},
     "output_type": "execute_result"
    }
   ],
   "source": [
    "train_data['description_text_type'].value_counts()"
   ]
  },
  {
   "cell_type": "code",
   "execution_count": 6,
   "metadata": {},
   "outputs": [
    {
     "data": {
      "text/html": "<div>\n<style scoped>\n    .dataframe tbody tr th:only-of-type {\n        vertical-align: middle;\n    }\n\n    .dataframe tbody tr th {\n        vertical-align: top;\n    }\n\n    .dataframe thead th {\n        text-align: right;\n    }\n</style>\n<table border=\"1\" class=\"dataframe\">\n  <thead>\n    <tr style=\"text-align: right;\">\n      <th></th>\n      <th>description_id</th>\n      <th>paper_id</th>\n      <th>description_text</th>\n      <th>description_text_type</th>\n    </tr>\n  </thead>\n  <tbody>\n    <tr>\n      <th>40889</th>\n      <td>NaN</td>\n      <td>9082af</td>\n      <td>NaN</td>\n      <td>&lt;class 'float'&gt;</td>\n    </tr>\n  </tbody>\n</table>\n</div>",
      "text/plain": "      description_id paper_id description_text description_text_type\n40889            NaN   9082af              NaN       <class 'float'>"
     },
     "execution_count": 6,
     "metadata": {},
     "output_type": "execute_result"
    }
   ],
   "source": [
    "train_data[train_data['description_text_type'] == float]"
   ]
  },
  {
   "cell_type": "code",
   "execution_count": 7,
   "metadata": {},
   "outputs": [],
   "source": [
    "train_data.drop(index=40889, inplace=True)"
   ]
  },
  {
   "cell_type": "code",
   "execution_count": 8,
   "metadata": {},
   "outputs": [
    {
     "data": {
      "text/plain": "<class 'str'>    62975\nName: description_text_type, dtype: int64"
     },
     "execution_count": 8,
     "metadata": {},
     "output_type": "execute_result"
    }
   ],
   "source": [
    "train_data['description_text_type'].value_counts()"
   ]
  },
  {
   "cell_type": "code",
   "execution_count": 9,
   "metadata": {},
   "outputs": [],
   "source": [
    "from pandarallel import pandarallel"
   ]
  },
  {
   "cell_type": "code",
   "execution_count": 10,
   "metadata": {},
   "outputs": [
    {
     "name": "stdout",
     "output_type": "stream",
     "text": "INFO: Pandarallel will run on 32 workers.\nINFO: Pandarallel will use Memory file system to transfer data between the main process and workers.\n"
    }
   ],
   "source": [
    "pandarallel.initialize(nb_workers=32)"
   ]
  },
  {
   "cell_type": "code",
   "execution_count": 11,
   "metadata": {},
   "outputs": [],
   "source": [
    "def text_preprocessing(text):\n",
    "    try:\n",
    "        text = str(text)\n",
    "        text = text.lower()  # lower\n",
    "        text = text.strip()\n",
    "        text = re.sub(\"\\d+\", \"\", text)\n",
    "        text = re.sub(\"\\[\\[\\*\\*##\\*\\*\\]\\]\", \"\", text)\n",
    "        text = re.sub(r'(https|http)?:\\/\\/(\\w|\\.|\\/|\\?|\\=|\\&|\\%)*\\b',\n",
    "                      'url', text, flags=re.MULTILINE)  # replace https://... to url\n",
    "        text = re.sub('[\\u00a3-\\ufb04]', \"\", text)\n",
    "        text = text.split()\n",
    "    except AttributeError as e:\n",
    "        return []\n",
    "    return text"
   ]
  },
  {
   "cell_type": "code",
   "execution_count": 12,
   "metadata": {},
   "outputs": [
    {
     "data": {
      "text/html": "<div>\n<style scoped>\n    .dataframe tbody tr th:only-of-type {\n        vertical-align: middle;\n    }\n\n    .dataframe tbody tr th {\n        vertical-align: top;\n    }\n\n    .dataframe thead th {\n        text-align: right;\n    }\n</style>\n<table border=\"1\" class=\"dataframe\">\n  <thead>\n    <tr style=\"text-align: right;\">\n      <th></th>\n      <th>description_id</th>\n      <th>paper_id</th>\n      <th>description_text</th>\n      <th>description_text_type</th>\n    </tr>\n  </thead>\n  <tbody>\n    <tr>\n      <th>0</th>\n      <td>77bef2</td>\n      <td>5c0f7919da562944ac759a0f</td>\n      <td>Angiogenesis is reflected as newly formed vess...</td>\n      <td>&lt;class 'str'&gt;</td>\n    </tr>\n    <tr>\n      <th>1</th>\n      <td>42360e</td>\n      <td>5c1360beda56295a0896fda3</td>\n      <td>Cardiac fibrosis is a common process in remode...</td>\n      <td>&lt;class 'str'&gt;</td>\n    </tr>\n    <tr>\n      <th>2</th>\n      <td>9bf5e0</td>\n      <td>5d1b36e83a55ac0a0e8bb84e</td>\n      <td>Agmatine, formed by the decarboxylation of L-a...</td>\n      <td>&lt;class 'str'&gt;</td>\n    </tr>\n    <tr>\n      <th>3</th>\n      <td>22e485</td>\n      <td>5d2709fd3a55ac2cfc28108f</td>\n      <td>The ob gene product leptin has been demonstrat...</td>\n      <td>&lt;class 'str'&gt;</td>\n    </tr>\n    <tr>\n      <th>4</th>\n      <td>30856c</td>\n      <td>55a392d1c91b587b095b6fcc</td>\n      <td>Lauterbach M et al., have concluded at the end...</td>\n      <td>&lt;class 'str'&gt;</td>\n    </tr>\n  </tbody>\n</table>\n</div>",
      "text/plain": "  description_id                  paper_id  \\\n0         77bef2  5c0f7919da562944ac759a0f   \n1         42360e  5c1360beda56295a0896fda3   \n2         9bf5e0  5d1b36e83a55ac0a0e8bb84e   \n3         22e485  5d2709fd3a55ac2cfc28108f   \n4         30856c  55a392d1c91b587b095b6fcc   \n\n                                    description_text description_text_type  \n0  Angiogenesis is reflected as newly formed vess...         <class 'str'>  \n1  Cardiac fibrosis is a common process in remode...         <class 'str'>  \n2  Agmatine, formed by the decarboxylation of L-a...         <class 'str'>  \n3  The ob gene product leptin has been demonstrat...         <class 'str'>  \n4  Lauterbach M et al., have concluded at the end...         <class 'str'>  "
     },
     "execution_count": 12,
     "metadata": {},
     "output_type": "execute_result"
    }
   ],
   "source": [
    "train_data.head()"
   ]
  },
  {
   "cell_type": "code",
   "execution_count": 13,
   "metadata": {},
   "outputs": [
    {
     "name": "stdout",
     "output_type": "stream",
     "text": "<class 'pandas.core.frame.DataFrame'>\nRangeIndex: 838939 entries, 0 to 838938\nData columns (total 6 columns):\nabstract    769687 non-null object\njournal     838938 non-null object\nkeywords    61245 non-null object\npaper_id    838938 non-null object\ntitle       838939 non-null object\nyear        604119 non-null float64\ndtypes: float64(1), object(5)\nmemory usage: 38.4+ MB\n"
    }
   ],
   "source": [
    "all_data.info()"
   ]
  },
  {
   "cell_type": "code",
   "execution_count": 14,
   "metadata": {},
   "outputs": [
    {
     "data": {
      "text/html": "<div>\n<style scoped>\n    .dataframe tbody tr th:only-of-type {\n        vertical-align: middle;\n    }\n\n    .dataframe tbody tr th {\n        vertical-align: top;\n    }\n\n    .dataframe thead th {\n        text-align: right;\n    }\n</style>\n<table border=\"1\" class=\"dataframe\">\n  <thead>\n    <tr style=\"text-align: right;\">\n      <th></th>\n      <th>abstract</th>\n      <th>journal</th>\n      <th>keywords</th>\n      <th>paper_id</th>\n      <th>title</th>\n      <th>year</th>\n    </tr>\n  </thead>\n  <tbody>\n    <tr>\n      <th>0</th>\n      <td>NO_CONTENT</td>\n      <td>Journal of economic entomology</td>\n      <td>NaN</td>\n      <td>55a38b7f2401aa93797cef61</td>\n      <td>Anopheles stephensi: effect of gamma-radiation...</td>\n      <td>1978.0</td>\n    </tr>\n    <tr>\n      <th>1</th>\n      <td>Ecological and population biology issues const...</td>\n      <td>Science (New York, N.Y.)</td>\n      <td>NaN</td>\n      <td>55a4e85b612c6b12aafdb996</td>\n      <td>The ecology of genetically modified mosquitoes.</td>\n      <td>2002.0</td>\n    </tr>\n    <tr>\n      <th>2</th>\n      <td>Thiotepa and its oxygen analogue tepa, used to...</td>\n      <td>Bulletin of the World Health Organization</td>\n      <td>NaN</td>\n      <td>55a4cc5024011b361acddf6f</td>\n      <td>Persistence of thiotepa and tepa in pupae and ...</td>\n      <td>1972.0</td>\n    </tr>\n    <tr>\n      <th>3</th>\n      <td>NO_CONTENT</td>\n      <td>Journal of economic entomology</td>\n      <td>NaN</td>\n      <td>55a56b4824012c2a39230188</td>\n      <td>Studies on the eradication of Anopheles pharoe...</td>\n      <td>1967.0</td>\n    </tr>\n    <tr>\n      <th>4</th>\n      <td>NO_CONTENT</td>\n      <td>Journal of the American Mosquito Control Assoc...</td>\n      <td>NaN</td>\n      <td>55a483792401032899721ae4</td>\n      <td>A method of computing the effectiveness of an ...</td>\n      <td>1987.0</td>\n    </tr>\n  </tbody>\n</table>\n</div>",
      "text/plain": "                                            abstract  \\\n0                                         NO_CONTENT   \n1  Ecological and population biology issues const...   \n2  Thiotepa and its oxygen analogue tepa, used to...   \n3                                         NO_CONTENT   \n4                                         NO_CONTENT   \n\n                                             journal keywords  \\\n0                     Journal of economic entomology      NaN   \n1                           Science (New York, N.Y.)      NaN   \n2          Bulletin of the World Health Organization      NaN   \n3                     Journal of economic entomology      NaN   \n4  Journal of the American Mosquito Control Assoc...      NaN   \n\n                   paper_id  \\\n0  55a38b7f2401aa93797cef61   \n1  55a4e85b612c6b12aafdb996   \n2  55a4cc5024011b361acddf6f   \n3  55a56b4824012c2a39230188   \n4  55a483792401032899721ae4   \n\n                                               title    year  \n0  Anopheles stephensi: effect of gamma-radiation...  1978.0  \n1    The ecology of genetically modified mosquitoes.  2002.0  \n2  Persistence of thiotepa and tepa in pupae and ...  1972.0  \n3  Studies on the eradication of Anopheles pharoe...  1967.0  \n4  A method of computing the effectiveness of an ...  1987.0  "
     },
     "execution_count": 14,
     "metadata": {},
     "output_type": "execute_result"
    }
   ],
   "source": [
    "all_data.head()"
   ]
  },
  {
   "cell_type": "code",
   "execution_count": 15,
   "metadata": {},
   "outputs": [
    {
     "data": {
      "text/html": "<div>\n<style scoped>\n    .dataframe tbody tr th:only-of-type {\n        vertical-align: middle;\n    }\n\n    .dataframe tbody tr th {\n        vertical-align: top;\n    }\n\n    .dataframe thead th {\n        text-align: right;\n    }\n</style>\n<table border=\"1\" class=\"dataframe\">\n  <thead>\n    <tr style=\"text-align: right;\">\n      <th></th>\n      <th>abstract</th>\n      <th>journal</th>\n      <th>keywords</th>\n      <th>paper_id</th>\n      <th>title</th>\n      <th>year</th>\n    </tr>\n  </thead>\n  <tbody>\n    <tr>\n      <th>0</th>\n      <td>NO_CONTENT</td>\n      <td>Journal of economic entomology</td>\n      <td>NaN</td>\n      <td>55a38b7f2401aa93797cef61</td>\n      <td>Anopheles stephensi: effect of gamma-radiation...</td>\n      <td>1978.0</td>\n    </tr>\n    <tr>\n      <th>3</th>\n      <td>NO_CONTENT</td>\n      <td>Journal of economic entomology</td>\n      <td>NaN</td>\n      <td>55a56b4824012c2a39230188</td>\n      <td>Studies on the eradication of Anopheles pharoe...</td>\n      <td>1967.0</td>\n    </tr>\n    <tr>\n      <th>4</th>\n      <td>NO_CONTENT</td>\n      <td>Journal of the American Mosquito Control Assoc...</td>\n      <td>NaN</td>\n      <td>55a483792401032899721ae4</td>\n      <td>A method of computing the effectiveness of an ...</td>\n      <td>1987.0</td>\n    </tr>\n    <tr>\n      <th>5</th>\n      <td>NO_CONTENT</td>\n      <td>Journal of economic entomology</td>\n      <td>NaN</td>\n      <td>55a5645424012c2a3920ecb7</td>\n      <td>Studies on the eradication of Anopheles pharoe...</td>\n      <td>1966.0</td>\n    </tr>\n    <tr>\n      <th>17</th>\n      <td>NO_CONTENT</td>\n      <td>The Journal of comparative neurology</td>\n      <td>NaN</td>\n      <td>55a539e8612c6b12ab093cb4</td>\n      <td>A cytoarchitectonic atlas of the spinal cord i...</td>\n      <td>1954.0</td>\n    </tr>\n    <tr>\n      <th>...</th>\n      <td>...</td>\n      <td>...</td>\n      <td>...</td>\n      <td>...</td>\n      <td>...</td>\n      <td>...</td>\n    </tr>\n    <tr>\n      <th>604086</th>\n      <td>NO_CONTENT</td>\n      <td>The Journal of prosthetic dentistry</td>\n      <td>NaN</td>\n      <td>5d285d4c3a55ac2bbd3a6745</td>\n      <td>Direct procedure for connecting a mandibular i...</td>\n      <td>2004.0</td>\n    </tr>\n    <tr>\n      <th>604088</th>\n      <td>NO_CONTENT</td>\n      <td>The Journal of prosthetic dentistry</td>\n      <td>NaN</td>\n      <td>5d285d4c3a55ac2bbd3a6771</td>\n      <td>Adaptation of fiber-reinforced strip using den...</td>\n      <td>2004.0</td>\n    </tr>\n    <tr>\n      <th>604090</th>\n      <td>NO_CONTENT</td>\n      <td>The Journal of prosthetic dentistry</td>\n      <td>NaN</td>\n      <td>5d74d84947c8f76646cf88bf</td>\n      <td>Fabricating an inexpensive leaf gauge deprogra...</td>\n      <td>2019.0</td>\n    </tr>\n    <tr>\n      <th>604097</th>\n      <td>NO_CONTENT</td>\n      <td>Human psychopharmacology</td>\n      <td>NaN</td>\n      <td>55a4eb5a612c6b12aafe4a8a</td>\n      <td>Cholinergic modulation of cognitive function i...</td>\n      <td>2001.0</td>\n    </tr>\n    <tr>\n      <th>604102</th>\n      <td>NO_CONTENT</td>\n      <td>Human psychopharmacology</td>\n      <td>NaN</td>\n      <td>5c0f82d6da562944ac8b0dcb</td>\n      <td>Mixing alcohol and energy drinks in daily life...</td>\n      <td>2018.0</td>\n    </tr>\n  </tbody>\n</table>\n<p>202500 rows × 6 columns</p>\n</div>",
      "text/plain": "          abstract                                            journal  \\\n0       NO_CONTENT                     Journal of economic entomology   \n3       NO_CONTENT                     Journal of economic entomology   \n4       NO_CONTENT  Journal of the American Mosquito Control Assoc...   \n5       NO_CONTENT                     Journal of economic entomology   \n17      NO_CONTENT               The Journal of comparative neurology   \n...            ...                                                ...   \n604086  NO_CONTENT                The Journal of prosthetic dentistry   \n604088  NO_CONTENT                The Journal of prosthetic dentistry   \n604090  NO_CONTENT                The Journal of prosthetic dentistry   \n604097  NO_CONTENT                           Human psychopharmacology   \n604102  NO_CONTENT                           Human psychopharmacology   \n\n       keywords                  paper_id  \\\n0           NaN  55a38b7f2401aa93797cef61   \n3           NaN  55a56b4824012c2a39230188   \n4           NaN  55a483792401032899721ae4   \n5           NaN  55a5645424012c2a3920ecb7   \n17          NaN  55a539e8612c6b12ab093cb4   \n...         ...                       ...   \n604086      NaN  5d285d4c3a55ac2bbd3a6745   \n604088      NaN  5d285d4c3a55ac2bbd3a6771   \n604090      NaN  5d74d84947c8f76646cf88bf   \n604097      NaN  55a4eb5a612c6b12aafe4a8a   \n604102      NaN  5c0f82d6da562944ac8b0dcb   \n\n                                                    title    year  \n0       Anopheles stephensi: effect of gamma-radiation...  1978.0  \n3       Studies on the eradication of Anopheles pharoe...  1967.0  \n4       A method of computing the effectiveness of an ...  1987.0  \n5       Studies on the eradication of Anopheles pharoe...  1966.0  \n17      A cytoarchitectonic atlas of the spinal cord i...  1954.0  \n...                                                   ...     ...  \n604086  Direct procedure for connecting a mandibular i...  2004.0  \n604088  Adaptation of fiber-reinforced strip using den...  2004.0  \n604090  Fabricating an inexpensive leaf gauge deprogra...  2019.0  \n604097  Cholinergic modulation of cognitive function i...  2001.0  \n604102  Mixing alcohol and energy drinks in daily life...  2018.0  \n\n[202500 rows x 6 columns]"
     },
     "execution_count": 15,
     "metadata": {},
     "output_type": "execute_result"
    }
   ],
   "source": [
    "all_data[all_data['abstract'] == 'NO_CONTENT']"
   ]
  },
  {
   "cell_type": "code",
   "execution_count": 16,
   "metadata": {},
   "outputs": [],
   "source": [
    "import Levenshtein"
   ]
  },
  {
   "cell_type": "code",
   "execution_count": 17,
   "metadata": {},
   "outputs": [
    {
     "data": {
      "text/plain": "Invited commentary.                       68\nLetter to the editor.                     43\nLetters to the editor.                    36\nCommentary.                               27\nLetters to the Editor.                    25\nIntroduction.                             25\nCase for Diagnosis.                       21\nFrom the Food and Drug Administration.    21\nLetter to the Editor.                     18\nDiagnostic and therapeutic challenges.    18\nName: title, dtype: int64"
     },
     "execution_count": 17,
     "metadata": {},
     "output_type": "execute_result"
    }
   ],
   "source": [
    "all_data['title'].value_counts()[:10]"
   ]
  },
  {
   "cell_type": "code",
   "execution_count": 18,
   "metadata": {},
   "outputs": [],
   "source": [
    "def abstract_title_combine(abstract_text, title):\n",
    "    if abstract_text == 'NO_CONTENT':\n",
    "        return title\n",
    "    else:\n",
    "        try:        \n",
    "            abstract_text = abstract_text.strip()\n",
    "            title = title.strip()\n",
    "            if Levenshtein.distance(abstract_text, title) >= 50:  # 差异比较大\n",
    "                return title + abstract_text\n",
    "            else:\n",
    "                if len(abstract_text.split()) <= 1:\n",
    "                    return title\n",
    "                return abstract_text\n",
    "        except AttributeError:\n",
    "            return title"
   ]
  },
  {
   "cell_type": "code",
   "execution_count": 19,
   "metadata": {},
   "outputs": [
    {
     "name": "stdout",
     "output_type": "stream",
     "text": "all_train_merge length： 62975\n"
    }
   ],
   "source": [
    "all_data['title_abstract'] = all_data.parallel_apply(\n",
    "        lambda s: abstract_title_combine(s['abstract'], s['title']), axis=1)\n",
    "\n",
    "all_train_merge = pd.merge(train_data, all_data, on='paper_id')\n",
    "print(\"all_train_merge length：\", len(all_train_merge))\n"
   ]
  },
  {
   "cell_type": "code",
   "execution_count": 20,
   "metadata": {},
   "outputs": [],
   "source": [
    "labeled_data = all_train_merge\n",
    "labeled_data['title_abstract'] = labeled_data['title_abstract'].parallel_map(\n",
    "    text_preprocessing)\n",
    "labeled_data['description_text'] = labeled_data['description_text'].parallel_map(\n",
    "    text_preprocessing)\n",
    "labeled_data['description_text'].dropna(inplace=True)\n",
    "labeled_data['title_abstract'].dropna(inplace=True)\n",
    "labeled_data = labeled_data[[\n",
    "    'title_abstract', 'description_text'\n",
    "]]"
   ]
  },
  {
   "cell_type": "code",
   "execution_count": 21,
   "metadata": {},
   "outputs": [
    {
     "data": {
      "text/plain": "Index(['title_abstract', 'description_text'], dtype='object')"
     },
     "execution_count": 21,
     "metadata": {},
     "output_type": "execute_result"
    }
   ],
   "source": [
    "labeled_data.columns"
   ]
  },
  {
   "cell_type": "code",
   "execution_count": 22,
   "metadata": {},
   "outputs": [
    {
     "name": "stderr",
     "output_type": "stream",
     "text": "/home/caryjxchen/miniconda3/lib/python3.7/site-packages/ipykernel_launcher.py:1: SettingWithCopyWarning: \nA value is trying to be set on a copy of a slice from a DataFrame.\nTry using .loc[row_indexer,col_indexer] = value instead\n\nSee the caveats in the documentation: http://pandas.pydata.org/pandas-docs/stable/user_guide/indexing.html#returning-a-view-versus-a-copy\n  \"\"\"Entry point for launching an IPython kernel.\n/home/caryjxchen/miniconda3/lib/python3.7/site-packages/ipykernel_launcher.py:2: SettingWithCopyWarning: \nA value is trying to be set on a copy of a slice from a DataFrame.\nTry using .loc[row_indexer,col_indexer] = value instead\n\nSee the caveats in the documentation: http://pandas.pydata.org/pandas-docs/stable/user_guide/indexing.html#returning-a-view-versus-a-copy\n  \n"
    }
   ],
   "source": [
    "labeled_data['title_abstract_len'] = labeled_data['title_abstract'].map(len)\n",
    "labeled_data['description_text_len'] = labeled_data['description_text'].map(len)"
   ]
  },
  {
   "cell_type": "code",
   "execution_count": 23,
   "metadata": {},
   "outputs": [
    {
     "data": {
      "text/plain": "count    62975.000000\nmean       157.883970\nstd         95.456928\nmin          1.000000\n25%         63.000000\n50%        170.000000\n75%        229.000000\nmax       1294.000000\nName: title_abstract_len, dtype: float64"
     },
     "execution_count": 23,
     "metadata": {},
     "output_type": "execute_result"
    }
   ],
   "source": [
    "labeled_data['title_abstract_len'].describe()"
   ]
  },
  {
   "cell_type": "code",
   "execution_count": 24,
   "metadata": {},
   "outputs": [
    {
     "data": {
      "text/plain": "count    62975.000000\nmean       182.988440\nstd        119.845415\nmin          1.000000\n25%        105.000000\n50%        157.000000\n75%        229.000000\nmax       1861.000000\nName: description_text_len, dtype: float64"
     },
     "execution_count": 24,
     "metadata": {},
     "output_type": "execute_result"
    }
   ],
   "source": [
    "labeled_data['description_text_len'].describe()"
   ]
  },
  {
   "cell_type": "code",
   "execution_count": 25,
   "metadata": {},
   "outputs": [
    {
     "data": {
      "text/plain": "array([[list(['combination', 'of', 'lu-psma-', 'and', 'external', 'radiotherapy', 'for', 'the', 'treatment', 'of', 'cerebral', 'metastases', 'in', 'patients', 'with', 'castration-resistant', 'metastatic', 'prostate', 'cancer.two', 'castration-resistant', 'prostate', 'cancer', 'patients,', 'both', 'with', 'cerebral', 'and', 'visceral', 'and', 'lymphatic', 'metastases,', 'received', 'multiple', 'cycles', 'of', 'lu-psma-', 'treatments.', 'the', 'prognosis', 'of', 'both', 'cases', 'is', 'dependent', 'on', 'brain', 'metastases.', 'between', 'lu-psma-', 'treatment', 'cycles,', 'local', 'radiotherapy', 'was', 'also', 'applied', 'to', 'the', 'brain', 'metastases.', 'prior', 'to', 'the', 'combined', 'therapy,', 'all', 'systemic', 'metastases,', 'including', 'cerebral', 'lesions,', 'showed', 'psma', 'expression', 'using', 'ga-psma', 'pet/ct.', 'under', 'the', 'combined', 'therapy,', 'all', 'the', 'metastases,', 'particularly', 'the', 'cerebral', 'lesions,', 'showed', 'significant', 'regression', 'in', 'size', 'and', 'psma', 'expression', 'over', 'time.']),\n        list(['{\"type\":\"clinical-trial\",\"attrs\":{\"text\":\"nct\",\"term_id\":\"nct\"}}nct']),\n        98, 1]], dtype=object)"
     },
     "execution_count": 25,
     "metadata": {},
     "output_type": "execute_result"
    }
   ],
   "source": [
    "labeled_data[labeled_data['description_text_len'] == 1].values"
   ]
  },
  {
   "cell_type": "code",
   "execution_count": 26,
   "metadata": {},
   "outputs": [
    {
     "data": {
      "text/html": "<div>\n<style scoped>\n    .dataframe tbody tr th:only-of-type {\n        vertical-align: middle;\n    }\n\n    .dataframe tbody tr th {\n        vertical-align: top;\n    }\n\n    .dataframe thead th {\n        text-align: right;\n    }\n</style>\n<table border=\"1\" class=\"dataframe\">\n  <thead>\n    <tr style=\"text-align: right;\">\n      <th></th>\n      <th>title_abstract</th>\n      <th>description_text</th>\n      <th>title_abstract_len</th>\n      <th>description_text_len</th>\n    </tr>\n  </thead>\n  <tbody>\n    <tr>\n      <th>31761</th>\n      <td>[optogenetics.]</td>\n      <td>[the, term, optogenetics, indicates, a, method...</td>\n      <td>1</td>\n      <td>118</td>\n    </tr>\n    <tr>\n      <th>48169</th>\n      <td>[serotonin.]</td>\n      <td>[our, study, has, several, limitations,, mainl...</td>\n      <td>1</td>\n      <td>216</td>\n    </tr>\n    <tr>\n      <th>52319</th>\n      <td>[cholinesterases.]</td>\n      <td>[this, brief, review, focuses, on, unexpected,...</td>\n      <td>1</td>\n      <td>337</td>\n    </tr>\n    <tr>\n      <th>53857</th>\n      <td>[attention--grapefruit!]</td>\n      <td>[another, exception, must, be, made, for, the,...</td>\n      <td>1</td>\n      <td>130</td>\n    </tr>\n    <tr>\n      <th>55904</th>\n      <td>[lovesickness.]</td>\n      <td>[the, arbitrariness, by, which, eros, distribu...</td>\n      <td>1</td>\n      <td>191</td>\n    </tr>\n  </tbody>\n</table>\n</div>",
      "text/plain": "                 title_abstract  \\\n31761           [optogenetics.]   \n48169              [serotonin.]   \n52319        [cholinesterases.]   \n53857  [attention--grapefruit!]   \n55904           [lovesickness.]   \n\n                                        description_text  title_abstract_len  \\\n31761  [the, term, optogenetics, indicates, a, method...                   1   \n48169  [our, study, has, several, limitations,, mainl...                   1   \n52319  [this, brief, review, focuses, on, unexpected,...                   1   \n53857  [another, exception, must, be, made, for, the,...                   1   \n55904  [the, arbitrariness, by, which, eros, distribu...                   1   \n\n       description_text_len  \n31761                   118  \n48169                   216  \n52319                   337  \n53857                   130  \n55904                   191  "
     },
     "execution_count": 26,
     "metadata": {},
     "output_type": "execute_result"
    }
   ],
   "source": [
    "labeled_data[labeled_data['title_abstract_len'] == 1]"
   ]
  },
  {
   "cell_type": "code",
   "execution_count": null,
   "metadata": {},
   "outputs": [],
   "source": []
  },
  {
   "cell_type": "code",
   "execution_count": null,
   "metadata": {},
   "outputs": [],
   "source": []
  },
  {
   "cell_type": "code",
   "execution_count": null,
   "metadata": {},
   "outputs": [],
   "source": []
  },
  {
   "cell_type": "code",
   "execution_count": 27,
   "metadata": {},
   "outputs": [
    {
     "data": {
      "text/plain": "3"
     },
     "execution_count": 27,
     "metadata": {},
     "output_type": "execute_result"
    }
   ],
   "source": [
    "string1 = 'dsfjksdjs'\n",
    "string2 = 'dsfiksjsd'\n",
    "Levenshtein.distance(string1, string2)"
   ]
  }
 ]
}